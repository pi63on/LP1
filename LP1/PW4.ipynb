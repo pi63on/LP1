{
 "cells": [
  {
   "cell_type": "markdown",
   "id": "1cbf3151",
   "metadata": {},
   "source": [
    "# Besselverfahren"
   ]
  },
  {
   "cell_type": "code",
   "execution_count": 7,
   "id": "f1f92f4e",
   "metadata": {},
   "outputs": [],
   "source": [
    "schirm = [\n",
    "    600,\n",
    "    700,\n",
    "    40,\n",
    "    900,\n",
    "    40\n",
    "]\n",
    "gegenstand = [\n",
    "    1600,\n",
    "    1600,\n",
    "    1600,\n",
    "    1600,\n",
    "    1920\n",
    "]\n",
    "linsen = [\n",
    "    1419, 794,\n",
    "    900, 1411,\n",
    "    1434, 217,\n",
    "    1129, 1381,\n",
    "    1757, 214\n",
    "]"
   ]
  },
  {
   "cell_type": "code",
   "execution_count": 8,
   "id": "53bb07d2",
   "metadata": {},
   "outputs": [],
   "source": [
    "def brennweite(ds, dg, dl):\n",
    "    g = dg - dl\n",
    "    #print(g)\n",
    "    b = dl - ds\n",
    "    #print(b)\n",
    "    f = (1/g + 1/b)**(-1)\n",
    "    return f"
   ]
  },
  {
   "cell_type": "code",
   "execution_count": 15,
   "id": "92b81533",
   "metadata": {},
   "outputs": [],
   "source": [
    "def bessel(d,e):\n",
    "    f = (1/4)*(e - ((d**2)/e))\n",
    "    return f"
   ]
  },
  {
   "cell_type": "code",
   "execution_count": 31,
   "id": "7b581566",
   "metadata": {},
   "outputs": [
    {
     "name": "stdout",
     "output_type": "stream",
     "text": [
      "1000 625\n",
      "900 511\n",
      "1560 1217\n",
      "700 252\n",
      "1880 1543\n"
     ]
    },
    {
     "data": {
      "text/plain": [
       "[152.34375, 152.4663888888889, 152.6459935897436, 152.32, 153.39773936170212]"
      ]
     },
     "execution_count": 31,
     "metadata": {},
     "output_type": "execute_result"
    }
   ],
   "source": [
    "f_list_bessel = []\n",
    "for i in range(len(schirm)):\n",
    "    e = abs(gegenstand[i] - schirm[i])\n",
    "    d = abs(linsen[2*i] - linsen[2*i + 1])\n",
    "    print(e,d)\n",
    "    f = bessel(d,e)\n",
    "    f_list_bessel.append(f)\n",
    "f_list_bessel"
   ]
  },
  {
   "cell_type": "code",
   "execution_count": 27,
   "id": "00d7492b",
   "metadata": {},
   "outputs": [],
   "source": [
    "#das falsche Verfahren mit Linsengleichung\n",
    "f_list = []\n",
    "for i in range(0,len(schirm)):\n",
    "    f1 = brennweite(schirm[i],gegenstand[i],linsen[2*i])\n",
    "    f_list.append(f1)\n",
    "    f2 = brennweite(schirm[i],gegenstand[i],linsen[2*i+1])\n",
    "    f_list.append(f2)"
   ]
  },
  {
   "cell_type": "code",
   "execution_count": 30,
   "id": "ece324d5",
   "metadata": {},
   "outputs": [
    {
     "name": "stdout",
     "output_type": "stream",
     "text": [
      "152.63477436806693 0.44563808400048377 0.1992954098375686\n"
     ]
    }
   ],
   "source": [
    "#bessel verfahren, statistik\n",
    "import statistics\n",
    "\n",
    "mittelwert = statistics.mean(f_list_bessel)\n",
    "stdev_of_avg = statistics.stdev(f_list_bessel) / (len(f_list_bessel))**0.5 #stdev des Mittelwertes\n",
    "stdev = statistics.stdev(f_list_bessel)\n",
    "\n",
    "print(mittelwert, stdev, stdev_of_avg)"
   ]
  },
  {
   "cell_type": "code",
   "execution_count": null,
   "id": "7815073a",
   "metadata": {},
   "outputs": [],
   "source": []
  }
 ],
 "metadata": {
  "kernelspec": {
   "display_name": "Python 3",
   "language": "python",
   "name": "python3"
  },
  "language_info": {
   "codemirror_mode": {
    "name": "ipython",
    "version": 3
   },
   "file_extension": ".py",
   "mimetype": "text/x-python",
   "name": "python",
   "nbconvert_exporter": "python",
   "pygments_lexer": "ipython3",
   "version": "3.8.8"
  }
 },
 "nbformat": 4,
 "nbformat_minor": 5
}
